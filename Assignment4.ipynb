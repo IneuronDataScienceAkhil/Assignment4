{
 "cells": [
  {
   "cell_type": "markdown",
   "id": "23188cca",
   "metadata": {},
   "source": [
    "1. What exactly is []?\n",
    "\n",
    "Ans-This is Square bracket commonly used for storing all the types of data like integer,floating,string etc .This is Called 'list' in python.\n",
    "\n",
    "Example: [1,2,'Akhil',34.6]"
   ]
  },
  {
   "cell_type": "markdown",
   "id": "80431e08",
   "metadata": {},
   "source": [
    "2. In a list of values stored in a variable called spam, how would you assign the value 'hello' as the third value? (Assume [2, 4, 6, 8, 10] are in spam.)\n",
    "\n",
    "Let pretend the spam includes the list ['a','b','c','d'] for the next three queries.\n",
    "\n",
    "Ans.   spam=[2,4,6,8,10]\n",
    "       spam[2]='Hello'\n",
    "        "
   ]
  },
  {
   "cell_type": "code",
   "execution_count": 1,
   "id": "816eaac6",
   "metadata": {},
   "outputs": [],
   "source": [
    "spam=[2,4,6,8,10]\n",
    "spam[2]=\"Hello\""
   ]
  },
  {
   "cell_type": "code",
   "execution_count": 2,
   "id": "c4cca743",
   "metadata": {},
   "outputs": [
    {
     "data": {
      "text/plain": [
       "[2, 4, 'Hello', 8, 10]"
      ]
     },
     "execution_count": 2,
     "metadata": {},
     "output_type": "execute_result"
    }
   ],
   "source": [
    "spam"
   ]
  },
  {
   "cell_type": "code",
   "execution_count": 3,
   "id": "5496873a",
   "metadata": {},
   "outputs": [],
   "source": [
    "spam=['a','b','c','d']\n",
    "spam[2]=\"hello\""
   ]
  },
  {
   "cell_type": "code",
   "execution_count": 4,
   "id": "901236f0",
   "metadata": {},
   "outputs": [
    {
     "data": {
      "text/plain": [
       "['a', 'b', 'hello', 'd']"
      ]
     },
     "execution_count": 4,
     "metadata": {},
     "output_type": "execute_result"
    }
   ],
   "source": [
    "spam"
   ]
  },
  {
   "cell_type": "markdown",
   "id": "648ad74c",
   "metadata": {},
   "source": [
    "3. What is the value of spam[int(int('3'* 2) / 11)]?\n",
    "\n",
    "Ans:- when we multilpy string with the integer we got the string number of types i.e \n",
    "\n",
    "'3'*2='33'\n",
    "\n",
    "And Again we changing the string to the integer with the int() keyword and divide with the 11"
   ]
  },
  {
   "cell_type": "code",
   "execution_count": 8,
   "id": "fc9d47d9",
   "metadata": {},
   "outputs": [
    {
     "data": {
      "text/plain": [
       "'d'"
      ]
     },
     "execution_count": 8,
     "metadata": {},
     "output_type": "execute_result"
    }
   ],
   "source": [
    "spam[int(int('3'* 2) / 11)]"
   ]
  },
  {
   "cell_type": "code",
   "execution_count": 9,
   "id": "6054a750",
   "metadata": {},
   "outputs": [
    {
     "data": {
      "text/plain": [
       "'33'"
      ]
     },
     "execution_count": 9,
     "metadata": {},
     "output_type": "execute_result"
    }
   ],
   "source": [
    "'3'*2"
   ]
  },
  {
   "cell_type": "markdown",
   "id": "da199e42",
   "metadata": {},
   "source": [
    "4.What is the value of spam[-1]?\n",
    "\n",
    "Ans:- This is known as negative indexing .And negative indexing always start from the last element of the list .spam[-1] represent the last element of the spam list "
   ]
  },
  {
   "cell_type": "code",
   "execution_count": 10,
   "id": "151c77d5",
   "metadata": {},
   "outputs": [
    {
     "data": {
      "text/plain": [
       "'d'"
      ]
     },
     "execution_count": 10,
     "metadata": {},
     "output_type": "execute_result"
    }
   ],
   "source": [
    "spam[-1]"
   ]
  },
  {
   "cell_type": "markdown",
   "id": "ecc982f3",
   "metadata": {},
   "source": [
    "5. What is the value of spam[:2]?\n",
    "\n",
    "Ans:- This is known as Slicing of the list .It takes three element like The first one is the initial and the second one is the last one -1 and the third one is the skipping element .\n",
    "\n",
    "spam[:2] it means that it start with the 0th index and reach to the (2-1)=1th index with the skipping element is 1 which is by default "
   ]
  },
  {
   "cell_type": "code",
   "execution_count": 11,
   "id": "06cc3612",
   "metadata": {},
   "outputs": [
    {
     "data": {
      "text/plain": [
       "['a', 'b']"
      ]
     },
     "execution_count": 11,
     "metadata": {},
     "output_type": "execute_result"
    }
   ],
   "source": [
    "spam[:2]"
   ]
  },
  {
   "cell_type": "markdown",
   "id": "368ec96b",
   "metadata": {},
   "source": [
    "6. What is the value of bacon.index('cat')?\n",
    "\n",
    "bacon=[3.14,'cat',11,'cat',True]\n",
    "\n",
    "Ans:- index is the built-in function which help us to find the index of the first element "
   ]
  },
  {
   "cell_type": "code",
   "execution_count": 13,
   "id": "2be829ef",
   "metadata": {},
   "outputs": [
    {
     "data": {
      "text/plain": [
       "1"
      ]
     },
     "execution_count": 13,
     "metadata": {},
     "output_type": "execute_result"
    }
   ],
   "source": [
    "bacon=[3.14,'cat',11,'cat',True]\n",
    "bacon.index('cat')"
   ]
  },
  {
   "cell_type": "markdown",
   "id": "54917bcb",
   "metadata": {},
   "source": [
    "7. How does bacon.append(99) change the look of the list value in bacon?\n",
    "\n",
    "Ans:-append is the in-built function which helps to insert the element at the last of the list.bacon(99) can simply insert the element 99 at the last of the list"
   ]
  },
  {
   "cell_type": "code",
   "execution_count": 14,
   "id": "4a203952",
   "metadata": {},
   "outputs": [
    {
     "data": {
      "text/plain": [
       "[3.14, 'cat', 11, 'cat', True]"
      ]
     },
     "execution_count": 14,
     "metadata": {},
     "output_type": "execute_result"
    }
   ],
   "source": [
    "bacon"
   ]
  },
  {
   "cell_type": "code",
   "execution_count": 15,
   "id": "6779454a",
   "metadata": {},
   "outputs": [],
   "source": [
    "bacon.append(99)"
   ]
  },
  {
   "cell_type": "code",
   "execution_count": 16,
   "id": "a614b698",
   "metadata": {},
   "outputs": [
    {
     "data": {
      "text/plain": [
       "[3.14, 'cat', 11, 'cat', True, 99]"
      ]
     },
     "execution_count": 16,
     "metadata": {},
     "output_type": "execute_result"
    }
   ],
   "source": [
    "bacon"
   ]
  },
  {
   "cell_type": "markdown",
   "id": "c1ef7b5d",
   "metadata": {},
   "source": [
    "8. How does bacon.remove('cat') change the look of the list in bacon?\n",
    "\n",
    "Ans:-remove is the in-built function in python which help us to remove the element that we are given in the remove from the list .if it does not find the element in the list .Then it throw the error that is called the ValueError. If it find more than one value in the list then it remove the first element ."
   ]
  },
  {
   "cell_type": "code",
   "execution_count": 22,
   "id": "46ca137e",
   "metadata": {},
   "outputs": [
    {
     "data": {
      "text/plain": [
       "[3.14, 11, 'cat', True, 99]"
      ]
     },
     "execution_count": 22,
     "metadata": {},
     "output_type": "execute_result"
    }
   ],
   "source": [
    "bacon"
   ]
  },
  {
   "cell_type": "code",
   "execution_count": 23,
   "id": "e8da7de3",
   "metadata": {},
   "outputs": [],
   "source": [
    "bacon.remove('cat')"
   ]
  },
  {
   "cell_type": "code",
   "execution_count": 24,
   "id": "64473094",
   "metadata": {},
   "outputs": [
    {
     "data": {
      "text/plain": [
       "[3.14, 11, True, 99]"
      ]
     },
     "execution_count": 24,
     "metadata": {},
     "output_type": "execute_result"
    }
   ],
   "source": [
    "bacon"
   ]
  },
  {
   "cell_type": "markdown",
   "id": "2cf978dd",
   "metadata": {},
   "source": [
    "9. What are the list concatenation and list replication operators?\n",
    "\n",
    "Ans:-The operator for list concatenation is +, while the operator for replication is *.\n",
    "(This is the same as for strings.)"
   ]
  },
  {
   "cell_type": "markdown",
   "id": "e0c34240",
   "metadata": {},
   "source": [
    "10. What is difference between the list methods append() and insert()?\n",
    "\n",
    "Ans:- append and insert both are the inbuilt function in the python but the differnce between them is that append function can take one parameter as a value and add that element at the last of the element And the insert function can take two parameter the first one is the index at which we add the value and the second is the value that can be added "
   ]
  },
  {
   "cell_type": "code",
   "execution_count": 34,
   "id": "aa16237e",
   "metadata": {},
   "outputs": [
    {
     "data": {
      "text/plain": [
       "[1, 2, 3, 3, 4, 5, 3]"
      ]
     },
     "execution_count": 34,
     "metadata": {},
     "output_type": "execute_result"
    }
   ],
   "source": [
    "lst"
   ]
  },
  {
   "cell_type": "code",
   "execution_count": 35,
   "id": "e3a2b9ec",
   "metadata": {},
   "outputs": [],
   "source": [
    "lst.insert(2,3)"
   ]
  },
  {
   "cell_type": "code",
   "execution_count": 36,
   "id": "f476af06",
   "metadata": {},
   "outputs": [
    {
     "data": {
      "text/plain": [
       "[1, 2, 3, 3, 3, 4, 5, 3]"
      ]
     },
     "execution_count": 36,
     "metadata": {},
     "output_type": "execute_result"
    }
   ],
   "source": [
    "lst"
   ]
  },
  {
   "cell_type": "code",
   "execution_count": 37,
   "id": "e60f7bbd",
   "metadata": {},
   "outputs": [],
   "source": [
    "lst.append(11)"
   ]
  },
  {
   "cell_type": "code",
   "execution_count": 38,
   "id": "82cbf485",
   "metadata": {},
   "outputs": [
    {
     "data": {
      "text/plain": [
       "[1, 2, 3, 3, 3, 4, 5, 3, 11]"
      ]
     },
     "execution_count": 38,
     "metadata": {},
     "output_type": "execute_result"
    }
   ],
   "source": [
    "lst"
   ]
  },
  {
   "cell_type": "markdown",
   "id": "6bc4e1df",
   "metadata": {},
   "source": [
    "11. What are the two methods for removing items from a list?\n",
    "\n",
    "Ans:-The Two method for removing items from a list are remove() and pop().remove can take one one argument which we need to remove and it does not have any default parameter while in the case of pop() can by default remove from the last and if we want to remove the element with the help of index number then we can give the index number in the pass function\n"
   ]
  },
  {
   "cell_type": "code",
   "execution_count": 47,
   "id": "e8257497",
   "metadata": {},
   "outputs": [],
   "source": [
    "lst.remove(5)"
   ]
  },
  {
   "cell_type": "code",
   "execution_count": 48,
   "id": "fbd1f997",
   "metadata": {},
   "outputs": [
    {
     "data": {
      "text/plain": [
       "[1, 3, 3, 4, 3]"
      ]
     },
     "execution_count": 48,
     "metadata": {},
     "output_type": "execute_result"
    }
   ],
   "source": [
    "lst"
   ]
  },
  {
   "cell_type": "code",
   "execution_count": 49,
   "id": "09b67dfb",
   "metadata": {},
   "outputs": [
    {
     "data": {
      "text/plain": [
       "3"
      ]
     },
     "execution_count": 49,
     "metadata": {},
     "output_type": "execute_result"
    }
   ],
   "source": [
    "lst.pop(2)"
   ]
  },
  {
   "cell_type": "code",
   "execution_count": 50,
   "id": "1e7ed57a",
   "metadata": {},
   "outputs": [
    {
     "data": {
      "text/plain": [
       "3"
      ]
     },
     "execution_count": 50,
     "metadata": {},
     "output_type": "execute_result"
    }
   ],
   "source": [
    "lst.pop()"
   ]
  },
  {
   "cell_type": "markdown",
   "id": "adff0d50",
   "metadata": {},
   "source": [
    "12. Describe how list values and string values are identical.\n",
    "\n",
    "Ans:- A list is a collection of python data types where each value can be have unique index number .And String are the collection of character of similar type.while in the case of the list it's data types is of any type "
   ]
  },
  {
   "cell_type": "markdown",
   "id": "ca09eb38",
   "metadata": {},
   "source": [
    "13. What&#39;s the difference between tuples and lists?\n",
    "\n",
    "Ans:-List can be formed with the help of [ ] .while tuple can be formed by ().List can be mutable it means it value can be changed but in case of tuple it is immutable it value can not be changed .List consume much more memory than the tuple ."
   ]
  },
  {
   "cell_type": "markdown",
   "id": "1a5718a1",
   "metadata": {},
   "source": [
    "14. How do you type a tuple value that only contains the integer 42?\n",
    "\n",
    "Ans:-tup=(42,)"
   ]
  },
  {
   "cell_type": "markdown",
   "id": "c5eccd0f",
   "metadata": {},
   "source": [
    "15. How do you get a list value tuple form? How do you get a tuple value list form?\n",
    "\n",
    "Ans:- We can change the list value to tuple and the tuple value to the list by using type Conversion .let's we have tup=(1,2,3) and the lst=[1,2,3] .We can use list() to change tuple into list and We use tuple() to change the list into the tuple .\n",
    "\n",
    "lst1=list(tup)\n",
    "\n",
    "tup1=tuple(lst)"
   ]
  },
  {
   "cell_type": "markdown",
   "id": "a74ad58d",
   "metadata": {},
   "source": [
    "16. Variables that contain list values are not necessarily lists themselves. Instead, what do they contain?\n",
    "\n",
    "Ans:-varaibles that contain list value are necessarily list but they are the collection of the different -2 data types \n",
    "\n",
    "Example:-  lst=[1,2\"Akhil\",98.4]"
   ]
  },
  {
   "cell_type": "markdown",
   "id": "01bd4d28",
   "metadata": {},
   "source": [
    "17. How do you distinguish between copy.copy() and copy.deepcopy()?\n",
    "\n",
    "Ans:-Deep copy is a process in which the copying process occurs recursively. It means first constructing a new collection object and then recursively populating it with copies of the child objects found in the original.A shallow copy means constructing a new collection object and then populating it with references to the child objects found in the original"
   ]
  },
  {
   "cell_type": "code",
   "execution_count": null,
   "id": "94483445",
   "metadata": {},
   "outputs": [],
   "source": []
  }
 ],
 "metadata": {
  "kernelspec": {
   "display_name": "Python 3 (ipykernel)",
   "language": "python",
   "name": "python3"
  },
  "language_info": {
   "codemirror_mode": {
    "name": "ipython",
    "version": 3
   },
   "file_extension": ".py",
   "mimetype": "text/x-python",
   "name": "python",
   "nbconvert_exporter": "python",
   "pygments_lexer": "ipython3",
   "version": "3.9.7"
  }
 },
 "nbformat": 4,
 "nbformat_minor": 5
}
